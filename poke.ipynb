{
 "cells": [
  {
   "cell_type": "code",
   "execution_count": null,
   "id": "7b7c1b27-281b-42fe-a160-d8e881f099bc",
   "metadata": {},
   "outputs": [],
   "source": []
  },
  {
   "cell_type": "code",
   "execution_count": 1,
   "id": "06b4289c-619d-45c1-b125-ed16299b9126",
   "metadata": {},
   "outputs": [
    {
     "name": "stdout",
     "output_type": "stream",
     "text": [
      "Collecting pokebase\n",
      "  Downloading pokebase-1.4.1-py3-none-any.whl.metadata (3.6 kB)\n",
      "Requirement already satisfied: requests in c:\\users\\a\\appdata\\local\\programs\\python\\python312\\lib\\site-packages (from pokebase) (2.32.3)\n",
      "Requirement already satisfied: charset-normalizer<4,>=2 in c:\\users\\a\\appdata\\local\\programs\\python\\python312\\lib\\site-packages (from requests->pokebase) (3.3.2)\n",
      "Requirement already satisfied: idna<4,>=2.5 in c:\\users\\a\\appdata\\local\\programs\\python\\python312\\lib\\site-packages (from requests->pokebase) (3.7)\n",
      "Requirement already satisfied: urllib3<3,>=1.21.1 in c:\\users\\a\\appdata\\local\\programs\\python\\python312\\lib\\site-packages (from requests->pokebase) (2.2.2)\n",
      "Requirement already satisfied: certifi>=2017.4.17 in c:\\users\\a\\appdata\\local\\programs\\python\\python312\\lib\\site-packages (from requests->pokebase) (2024.7.4)\n",
      "Downloading pokebase-1.4.1-py3-none-any.whl (11 kB)\n",
      "Installing collected packages: pokebase\n",
      "Successfully installed pokebase-1.4.1\n"
     ]
    }
   ],
   "source": [
    " !pip install pokebase"
   ]
  },
  {
   "cell_type": "code",
   "execution_count": 4,
   "id": "06cc489d-9127-48de-b0b8-a7e06f5c11f3",
   "metadata": {},
   "outputs": [
    {
     "name": "stdin",
     "output_type": "stream",
     "text": [
      "Ingresa el nombre de un pokemon\n",
      "\n",
      " pikachu\n"
     ]
    },
    {
     "name": "stdout",
     "output_type": "stream",
     "text": [
      "ID:  25\n",
      "Nombre:  pikachu\n",
      "Altura:  4\n",
      "Peso:  60\n",
      "Descripción:  Le gusta relajarse\n"
     ]
    }
   ],
   "source": [
    "import pokebase as pb\n",
    "import requests\n",
    "pokemon_to_search = input(\"Ingresa el nombre de un pokemon\\n\\n\")\n",
    "data = pb.pokemon(pokemon_to_search).__dict__\n",
    "id_ = data.get('id_')\n",
    "name = data.get('name')\n",
    "height = data.get ('height')\n",
    "weight = data.get ('weight')\n",
    "print(\"ID: \", id_)\n",
    "print(\"Nombre: \", name)\n",
    "print(\"Altura: \", height)\n",
    "print(\"Peso: \", weight)\n",
    "url = \"https://pokeapi.co/api/v2/characteristic/{id}/\".format(id=id_)\n",
    "response = requests.get(url)\n",
    "for description_dict in response.json().get(\"descriptions\"):\n",
    "    if description_dict.get(\"language\", {}).get(\"name\") == \"es\":\n",
    "       description = description_dict.get(\"description\")\n",
    "print(\"Descripción: \",description)"
   ]
  },
  {
   "cell_type": "code",
   "execution_count": null,
   "id": "f9e28c07-9605-4780-946e-e20762f294d1",
   "metadata": {},
   "outputs": [],
   "source": []
  },
  {
   "cell_type": "code",
   "execution_count": null,
   "id": "78772c89-b01d-473c-a12f-7f1a4920c140",
   "metadata": {},
   "outputs": [],
   "source": []
  },
  {
   "cell_type": "code",
   "execution_count": null,
   "id": "7c11a45f-02f7-40ba-a589-531a3a90f55c",
   "metadata": {},
   "outputs": [],
   "source": []
  },
  {
   "cell_type": "code",
   "execution_count": null,
   "id": "d6d09944-dc8e-46d7-9eb4-a6acde98d438",
   "metadata": {},
   "outputs": [],
   "source": []
  },
  {
   "cell_type": "code",
   "execution_count": null,
   "id": "da1ec5ff-b713-4faf-9574-3ad65ae9d765",
   "metadata": {},
   "outputs": [],
   "source": []
  },
  {
   "cell_type": "code",
   "execution_count": null,
   "id": "dcc2e398-b7e8-4294-b737-1fbf7faa722e",
   "metadata": {},
   "outputs": [],
   "source": []
  },
  {
   "cell_type": "code",
   "execution_count": null,
   "id": "eb0681d4-fc99-4f30-9583-820358548804",
   "metadata": {},
   "outputs": [],
   "source": []
  },
  {
   "cell_type": "code",
   "execution_count": null,
   "id": "5532ed48-3714-4ec6-a69d-65d18384e1f4",
   "metadata": {},
   "outputs": [],
   "source": []
  },
  {
   "cell_type": "code",
   "execution_count": null,
   "id": "a5b5680a-f740-4089-ba07-f6a412e80c8c",
   "metadata": {},
   "outputs": [],
   "source": []
  },
  {
   "cell_type": "code",
   "execution_count": null,
   "id": "a06c04eb-965c-4cc5-9ac5-0c16beda046b",
   "metadata": {},
   "outputs": [],
   "source": []
  },
  {
   "cell_type": "code",
   "execution_count": null,
   "id": "5aeb7912-2871-4b37-9d41-cba3587e9b74",
   "metadata": {},
   "outputs": [],
   "source": []
  }
 ],
 "metadata": {
  "kernelspec": {
   "display_name": "Python 3 (ipykernel)",
   "language": "python",
   "name": "python3"
  },
  "language_info": {
   "codemirror_mode": {
    "name": "ipython",
    "version": 3
   },
   "file_extension": ".py",
   "mimetype": "text/x-python",
   "name": "python",
   "nbconvert_exporter": "python",
   "pygments_lexer": "ipython3",
   "version": "3.12.5"
  }
 },
 "nbformat": 4,
 "nbformat_minor": 5
}
